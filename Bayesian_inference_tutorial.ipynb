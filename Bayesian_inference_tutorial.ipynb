{
 "cells": [
  {
   "cell_type": "markdown",
   "metadata": {},
   "source": [
    "# Bayesian Inference Tutorial"
   ]
  },
  {
   "cell_type": "code",
   "execution_count": 79,
   "metadata": {},
   "outputs": [],
   "source": [
    "import numpy as np\n",
    "import matplotlib.pyplot as plt\n",
    "%matplotlib inline"
   ]
  },
  {
   "cell_type": "markdown",
   "metadata": {},
   "source": [
    "In this tutorial we'll cover:\n",
    "\n",
    "    1) Probability Distributions.\n",
    "    2) The sum and product rules of probability theory.\n",
    "    3) The interpretation of likelihoods, posteriors and priors.\n",
    "    4) An analytic implementation of simple Bayesian inference.\n",
    "    5) Hierarchical Bayesian models.\n",
    "    6) Probabilistic graphical models.\n",
    "    7) A numerical implementation of a hierarchical Bayesian model."
   ]
  },
  {
   "cell_type": "markdown",
   "metadata": {},
   "source": [
    "Dependencies: you'll need to make sure you've got numpy, matplotlib and daft installed in order to run this notebook. To install daft, type 'pip install daft' in your command line."
   ]
  },
  {
   "cell_type": "markdown",
   "metadata": {},
   "source": [
    "# 8 reasons to use Bayesian inference"
   ]
  },
  {
   "cell_type": "markdown",
   "metadata": {},
   "source": [
    "    1) You want to infer the properties of some physical process by fitting a model to data.\n",
    "    2) When fitting a model to data you want to be explicit about your assumptions.\n",
    "    3) You'd like to produce probability distributions over model parameters.\n",
    "    4) Your problem is slightly more complicated that the simplest case.\n",
    "    5) E.g. you have a hierarchical model.\n",
    "    6) You'd like to compare alternative models.\n",
    "    7) You're working at the edge of observability.\n",
    "    8) Frequentist statistics are Hard."
   ]
  },
  {
   "cell_type": "markdown",
   "metadata": {},
   "source": [
    "# Frequentist vs Bayesian model fitting"
   ]
  },
  {
   "cell_type": "code",
   "execution_count": 85,
   "metadata": {},
   "outputs": [
    {
     "data": {
      "text/plain": [
       "Text(0,0.5,'y')"
      ]
     },
     "execution_count": 85,
     "metadata": {},
     "output_type": "execute_result"
    },
    {
     "data": {
      "image/png": "[encoded data removed]",
      "text/plain": [
       "<matplotlib.figure.Figure at 0x1097115f8>"
      ]
     },
     "metadata": {},
     "output_type": "display_data"
    }
   ],
   "source": [
    "N = 10\n",
    "\n",
    "x = np.random.uniform(0, 10, size=N)\n",
    "sigma = 1  # Homoskedastic uncertainties, all uncerts take this value.\n",
    "yerr = np.ones_like(x) * sigma\n",
    "\n",
    "# make up a model\n",
    "m, c = 2, -5\n",
    "y = m * x + c + np.random.randn(N) * sigma\n",
    "plt.errorbar(x, y, yerr=yerr, fmt=\".\")\n",
    "plt.xlabel(\"x\")\n",
    "plt.ylabel(\"y\")"
   ]
  },
  {
   "cell_type": "code",
   "execution_count": null,
   "metadata": {},
   "outputs": [],
   "source": []
  },
  {
   "cell_type": "code",
   "execution_count": null,
   "metadata": {},
   "outputs": [],
   "source": []
  },
  {
   "cell_type": "code",
   "execution_count": null,
   "metadata": {},
   "outputs": [],
   "source": []
  },
  {
   "cell_type": "code",
   "execution_count": null,
   "metadata": {},
   "outputs": [],
   "source": []
  },
  {
   "cell_type": "code",
   "execution_count": null,
   "metadata": {},
   "outputs": [],
   "source": []
  },
  {
   "cell_type": "code",
   "execution_count": null,
   "metadata": {},
   "outputs": [],
   "source": []
  },
  {
   "cell_type": "markdown",
   "metadata": {},
   "source": [
    "# Probability Distributions"
   ]
  },
  {
   "cell_type": "markdown",
   "metadata": {},
   "source": [
    "Joint, marginal and conditional probability distributions."
   ]
  },
  {
   "cell_type": "markdown",
   "metadata": {},
   "source": [
    "A probability is the chance of a certain event x occurring. The frequentist way to measure a probability is to ask how many times event x occurred out of a number of trials. The probability is then the number of times the outcome was x divided by the number of trials."
   ]
  },
  {
   "cell_type": "markdown",
   "metadata": {},
   "source": [
    "For discrete variables this is simple: e.g. to calculate the probability of a coin landing heads-up you would divide the number of time you got heads by the total number of coin tosses."
   ]
  },
  {
   "cell_type": "markdown",
   "metadata": {},
   "source": [
    "But once you start to consider continuous variables: e.g. what is the probability that a person weighs between 170 and 173cm, you start having to perform integrals."
   ]
  },
  {
   "cell_type": "code",
   "execution_count": 4,
   "metadata": {},
   "outputs": [],
   "source": [
    "#xs = np.linspace(145, 200, 10000)\n",
    "#plt.plot(xs, np.exp(-.5 * (170 - xs)**2/10**2)/)"
   ]
  },
  {
   "cell_type": "markdown",
   "metadata": {},
   "source": [
    "Applying Bayesian statistics is all about performing integrals. For discrete data this is "
   ]
  },
  {
   "cell_type": "code",
   "execution_count": null,
   "metadata": {},
   "outputs": [],
   "source": []
  },
  {
   "cell_type": "code",
   "execution_count": null,
   "metadata": {},
   "outputs": [],
   "source": []
  },
  {
   "cell_type": "code",
   "execution_count": null,
   "metadata": {},
   "outputs": [],
   "source": []
  },
  {
   "cell_type": "markdown",
   "metadata": {},
   "source": [
    "# Joint probabilities"
   ]
  },
  {
   "cell_type": "markdown",
   "metadata": {},
   "source": [
    "A joint probability distribution is the probability of more than one thing. For example, your friend goes out to buy two ingredients for breakfast sandwiches, X and Y from a shop that only sells toast, bagels, avocado and cream cheese. You forgot to mention to your friend that you _really_ like bagels. You're hoping they'll bring bagels. If the probability of your friend buying bagels is P(X = bagels) and the probability of them buying cream cheese is P(Y = cream cheese), then the joint probability of your friend buying both bagels and cream cheese is $P(X = \\mathrm{bagels}, Y = \\mathrm{cream~cheese)}$. This is a joint probability. Both bagels _and_ cream cheese would be a win."
   ]
  },
  {
   "cell_type": "markdown",
   "metadata": {},
   "source": [
    "# Marginal probabilities "
   ]
  },
  {
   "cell_type": "markdown",
   "metadata": {},
   "source": [
    "Marginal probabilities are the probabilities we talk about most often. It's the probability of a single outcome where you ignore other outcomes that are related. For example, you might say \"what's the chance of rain today?\". The chance of rain is a marginal probability since the rain probability distribution is related to the humidity probability distribution and the pressure probability distribution, etc.\n",
    "\n",
    "If you ask Siri for the weather forecast she tell you \"there is a 40% chance of rain today\". She has got that information from a weather prediction algorithm that has inferred the probability distribution of rain, marginalizing over the probability distributions of clouds, wind, temperature, and more."
   ]
  },
  {
   "cell_type": "markdown",
   "metadata": {},
   "source": [
    "Let's go back to the bagel example. Really you only want the bagels because you love cream cheese. To be honest, you'd probably eat cream cheese on anything. What you really care about is whether your friend brings you cream cheese and you're not interested in whether they bring bagels. \n",
    "\n",
    "The probability that your friend brings back cream cheese, regardless of whether they bring back bagels is the probability of cream cheese, marginalized over the probability distribution over possible bread (X) values. If you want to know the total probability of cream cheese being part of your near future you need to add together the probabilities of cream cheese if X=bagels and the probability if X=toast.\n",
    "\n",
    "If the probability of cream cheese doesn't depend on X, then Y is not conditionally dependent on X and the probability of cream cheese becomes, $P(Y = \\mathrm{cream~cheese}|X) = P(Y = \\mathrm{cream~cheese})$.\n",
    "\n",
    "But the probability of cream cheese almost certainly does depend on the choice of bread, in which case you'll need to marginalize over the probability distribution of X to find the probability of cream cheese:\n",
    "\n",
    "$P(Y = \\mathrm{cream~cheese}) = \\int P(Y=\\mathrm{cream~cheese}) P(X)dX$.\n",
    "\n",
    "Since this is a discrete problem, $\\int P(X) dX $ is the sum of P(X=bagels) and P(X=toast)."
   ]
  },
  {
   "cell_type": "markdown",
   "metadata": {},
   "source": [
    "# Conditional probabilities"
   ]
  },
  {
   "cell_type": "markdown",
   "metadata": {},
   "source": [
    "A conditional probability is one where the probability one thing depends on another thing happening. For example, what is the chance of rain given that it is cloudy? Or what is the chance of cream cheese given bagels?"
   ]
  },
  {
   "cell_type": "markdown",
   "metadata": {},
   "source": [
    "Perhaps just as your friend was leaving you remembered to shout out, \"bagels! Get bagels!\". So you know you're getting bagels. Now you want the conditional probability of X=cream cheese, given that Y=bagels. There's still a chance your friend will avocado instead of cream cheese. It would be CRAZY but it's possible.\n",
    "\n",
    "You want to know the probability X=cream cheese given Y=bagels, \n",
    "\n",
    "$$P(X=\\mathrm{cream~cheese~}|~Y=\\mathrm{bagels})$$\n",
    "\n",
    "This conditional probability is equivalent to the joint probability of X=cream cheese AND Y=bagels, the probability that your friend brings cream cheese AND bagels, divided by the probability that they bring bagels, P(Y=bagels).\n",
    "\n",
    "$$P(X=\\mathrm{cream~cheese~}|~Y=\\mathrm{bagels}) = \\frac{P(X=\\mathrm{cream~cheese}, Y=\\mathrm{bagels})}{P(Y=\\mathrm{bagels})}$$\n",
    "\n",
    "You know the probability of friend bringing bagels is high, because you yelled bagels at them. Let's say the denominator is 0.9. The probability of bagels AND cream cheese, the numerator, MUST be lower than this because, like I said, there's always a chance your friend is a crazy person. It had better or lower or equal too because probabilities are always less than or equal to 1. But HOW much lower is the numerator than the denominator? If it's a lot lower, say 0.2, and the ratio is small then you know that the probability that X=cream cheese is low, given Y=bagels. \n",
    "\n",
    "The probability $P(X=\\mathrm{cream~cheese~}|~Y=\\mathrm{bagels}) = \\frac{0.2}{0.9} = 0.22$. \n",
    "\n",
    "If it's not that much lower, 0.8 say, then you know that the probability that X=cream cheese is high given that Y=bagels.\n",
    "\n",
    "$P(X=\\mathrm{cream~cheese~}|~Y=\\mathrm{bagels}) = \\frac{0.8}{0.9} = 0.89$.\n",
    "\n",
    "Another way to look at it is that the probability of your friend bringing both cream cheese and bagels is equal to the probability of bagels, multiplied by the probability of cream cheese given bagels.  \n",
    "\n",
    "$$P(X=\\mathrm{cream~cheese}, Y=\\mathrm{bagels}) = P(Y=\\mathrm{bagels})P(X=\\mathrm{cream~cheese~}|~Y=\\mathrm{bagels)}$$\n",
    "\n",
    "This makes sense intuitively. Say the probability of cream cheese given bagels is high, 0.9. And the probability of bagels is high, 0.9. Then given Y=bagels, you know the probability of cream cheese and bagels (0.81). So you know the joint probability. \n",
    "\n",
    "But you actually want to know the probability of cream cheese. To figure that out, you need the probability of cream cheese given bagels. It's probably high because come on!\n",
    "\n",
    "Using the product rule,\n",
    "\n",
    "$$P(X=\\mathrm{cream~cheese}, Y=\\mathrm{bagels}) = P(X=\\mathrm{cream~cheese})P(Y=\\mathrm{bagels}~|~X=\\mathrm{cream~cheese~)}$$\n",
    "\n",
    "so\n",
    "\n",
    "$$P(X=\\mathrm{cream~cheese}) = \\frac{P(X=\\mathrm{cream~cheese}, Y=\\mathrm{bagels})}{P(Y=\\mathrm{bagels}~|~X=\\mathrm{cream~cheese~)}}$$"
   ]
  },
  {
   "cell_type": "markdown",
   "metadata": {},
   "source": [
    "The above equation can just simply be written,\n",
    "\n",
    "$P(X|Y) = \\frac{P(X, Y)}{P(Y)}$,\n",
    "\n",
    "without specifying the values, cream cheese and bagel, that the random variables X and Y take. Now these probabilities are distributions over the range of all possible grocery items.\n",
    "\n",
    "The above equation known as the product rule."
   ]
  },
  {
   "cell_type": "markdown",
   "metadata": {},
   "source": [
    "# The product rule"
   ]
  },
  {
   "cell_type": "code",
   "execution_count": null,
   "metadata": {},
   "outputs": [],
   "source": []
  },
  {
   "cell_type": "markdown",
   "metadata": {},
   "source": [
    "# The sum rule"
   ]
  },
  {
   "cell_type": "code",
   "execution_count": null,
   "metadata": {},
   "outputs": [],
   "source": []
  },
  {
   "cell_type": "code",
   "execution_count": null,
   "metadata": {},
   "outputs": [],
   "source": []
  },
  {
   "cell_type": "markdown",
   "metadata": {},
   "source": [
    "# Probabilistic Graphical Models"
   ]
  },
  {
   "cell_type": "code",
   "execution_count": 10,
   "metadata": {},
   "outputs": [],
   "source": [
    "import daft"
   ]
  },
  {
   "cell_type": "code",
   "execution_count": null,
   "metadata": {},
   "outputs": [],
   "source": []
  },
  {
   "cell_type": "code",
   "execution_count": null,
   "metadata": {},
   "outputs": [],
   "source": []
  },
  {
   "cell_type": "markdown",
   "metadata": {},
   "source": [
    "# Bayes Rule"
   ]
  },
  {
   "cell_type": "markdown",
   "metadata": {},
   "source": [
    "In data analysis it's useful to write these equations in terms of data and model parameters. Ultimately, when fitting a model to data you're asking the question \"Which model parameters best reproduce these data points?\". You want the probability distributions over your model parameters, conditioned on the data you observe.\n",
    "\n",
    "Say you want to fit a straight line to some data. Your model parameters are $m$ and $b$ and your data are $N$ $x$ and $y$ values: $X = {x_1, x_2, ..., x_N}$ and $Y = {y_1, y_2, ..., y_N}$.\n",
    "\n",
    "You want the probability distribution over model parameters m and b given data $X$ and $Y$.\n",
    "\n",
    "$$P(m, b | X, Y)~~~~~~~~~1.$$"
   ]
  },
  {
   "cell_type": "markdown",
   "metadata": {},
   "source": [
    "It might be even more useful to end up with a probability distribution over each model parameter, $P(m|X, Y)$ and $P(b|X, Y)$. As we'll see shortly, to calculate these we'll need to integrate over the probability distribution in the other dimension, or 'marginalize'.\n",
    "\n",
    "Notice that this is a conditional probability distribution. It wouldn't be very useful to have the joint probability of the data and the model, $P(m, b, X, Y)$. Writing probabilities as conditionals allows us to draw useful information out of these problems and make inferences about the world. It's also a natural outcome of any physical process. Physics (m and b) produces data (X and Y). We observe the data and use statistics to infer the physics."
   ]
  },
  {
   "cell_type": "markdown",
   "metadata": {},
   "source": [
    "Using the product rule we can write 1 as, \n",
    "\n",
    "$$P(m, b|X, Y) = \\frac{P(m, b, X, Y)}{P(X, Y)}~~~~~~2.$$\n",
    "\n",
    "The joint probability of the data and the model doesn't tell us very much about the model. It's much more useful to rewrite equation 2 with a second conditional probability."
   ]
  },
  {
   "cell_type": "markdown",
   "metadata": {},
   "source": [
    "Bayes' rule is:\n",
    "\n",
    "$$P(m, b|X, Y) = \\frac{P(X, Y|m, b)~P(m)P(b)}{P(X, Y)}$$"
   ]
  },
  {
   "cell_type": "markdown",
   "metadata": {},
   "source": [
    "and it can be derived from the product rule of probability theory. Try to derive this equation now. Hint: the joint probability of $m, b, X, Y$, can be written in any order."
   ]
  },
  {
   "cell_type": "markdown",
   "metadata": {},
   "source": [
    "Let's write $\\theta$ for the model parameters instead of m and b and D for the data instead of X and Y to simplify things. Bayes rule is,\n",
    "\n",
    "$$P(\\theta|D) = \\frac{P(D|\\theta)P(\\theta)}{P(D)}$$"
   ]
  },
  {
   "cell_type": "markdown",
   "metadata": {},
   "source": [
    "Each of these terms has a name and interpretation.\n",
    "\n",
    "\n",
    "$P(\\theta)$ is the prior probability distribution. It represents your prior belief about the probability distribution over model parameters, before you have any data. You can update this prior belief once you have data, to get a posterior probability distribution over model parameters.\n",
    "\n",
    "$P(\\theta|D)$ is the posterior probability distribution. It's the probability distribution over model parameters, given the data you observe.\n",
    "\n",
    "$P(D|\\theta)$ is the likelihood. It's the probability distribution over the data you observe, given the model parameters. In other words it's the probability that you obtained the data set you have, given the model.\n",
    "\n",
    "$P(D)$ is the probability distribution over the data. It's the probability that you observed that data set. It's also sometimes called the evidence or the fully marginalized likelihood."
   ]
  },
  {
   "cell_type": "markdown",
   "metadata": {},
   "source": [
    "# The likelihood explained"
   ]
  },
  {
   "cell_type": "markdown",
   "metadata": {},
   "source": [
    "What does \"the probability of your data, given the model\" actually mean?\n",
    "\n",
    "Well, say there's some one dimensional Gaussian process that you're observing. A physical process that generates data with a Gaussian probability distribution. This could be bagel diameter, for example. \n",
    "\n",
    "The likelihood gives the probability that you measure a certain bagel width, $x$, given model parameters $\\mu$ and $\\sigma$. If the probability distribution of bagel widths is Gaussian, i.e. the physical process of making bagels results in bagels widths being a little different every time, but usually quite close to a certain size, this probability is,\n",
    "\n",
    "$$\\mathcal{L} = P(D|\\theta) = \\frac{1}{\\sigma\\sqrt{2\\pi}}\\exp\\left(\\frac{-[\\mu - x]^2}{2\\sigma^2}\\right)$$"
   ]
  },
  {
   "cell_type": "markdown",
   "metadata": {},
   "source": [
    "Exercise: write a function for a Gaussian distribution as a python lambda function. This will come in useful throughout the tutorial."
   ]
  },
  {
   "cell_type": "code",
   "execution_count": 21,
   "metadata": {},
   "outputs": [],
   "source": [
    "Gauss = lambda mu, sigma, x: 1./(sigma * np.sqrt(2*np.pi)) * np.exp(-.5 * (mu - x)**2 / sigma**2)"
   ]
  },
  {
   "cell_type": "code",
   "execution_count": 22,
   "metadata": {},
   "outputs": [
    {
     "data": {
      "image/png": "[encoded data removed]",
      "text/plain": [
       "<matplotlib.figure.Figure at 0x106b95080>"
      ]
     },
     "metadata": {},
     "output_type": "display_data"
    }
   ],
   "source": [
    "mu, sigma = 15, 2\n",
    "xi = np.linspace(1, 30, 1000)\n",
    "\n",
    "plt.plot(xi, Gauss(mu, sigma, xi))\n",
    "plt.xlabel(\"Bagel diameter [cm]\")\n",
    "plt.ylabel(\"Probability\");"
   ]
  },
  {
   "cell_type": "markdown",
   "metadata": {},
   "source": [
    "You measure the bagel your friend brings you and it's a whopper! 20cm! What is the likelihood that you got a 20cm bagel given that the bagel distribution has a mean of 15cm and a standard deviation of 2cm?"
   ]
  },
  {
   "cell_type": "code",
   "execution_count": 6,
   "metadata": {},
   "outputs": [
    {
     "name": "stdout",
     "output_type": "stream",
     "text": [
      "likelihood =  0.00876415024678427\n"
     ]
    }
   ],
   "source": [
    "print(\"likelihood = \", Gauss(mu, sigma, 20))"
   ]
  },
  {
   "cell_type": "markdown",
   "metadata": {},
   "source": [
    "In the case of a straight line, the total likelihood is the product of the likelihoods for each data point."
   ]
  },
  {
   "cell_type": "markdown",
   "metadata": {},
   "source": [
    "# The posterior explained"
   ]
  },
  {
   "cell_type": "code",
   "execution_count": null,
   "metadata": {},
   "outputs": [],
   "source": []
  },
  {
   "cell_type": "code",
   "execution_count": null,
   "metadata": {},
   "outputs": [],
   "source": []
  },
  {
   "cell_type": "code",
   "execution_count": null,
   "metadata": {},
   "outputs": [],
   "source": []
  },
  {
   "cell_type": "code",
   "execution_count": null,
   "metadata": {},
   "outputs": [],
   "source": []
  },
  {
   "cell_type": "markdown",
   "metadata": {},
   "source": [
    "# The prior explained"
   ]
  },
  {
   "cell_type": "markdown",
   "metadata": {},
   "source": [
    "Example from [Tiny Heero - How to do Bayesian Inference 101](http://tinyheero.github.io/2017/03/08/how-to-bayesian-infer-101.html)."
   ]
  },
  {
   "cell_type": "markdown",
   "metadata": {},
   "source": [
    "Let's say you'd like to see whether a strange looking coin has the same probabilty of coming up heads as tails. "
   ]
  },
  {
   "cell_type": "code",
   "execution_count": null,
   "metadata": {},
   "outputs": [],
   "source": []
  },
  {
   "cell_type": "code",
   "execution_count": null,
   "metadata": {},
   "outputs": [],
   "source": []
  },
  {
   "cell_type": "markdown",
   "metadata": {},
   "source": [
    "# The fully marginalized likelihood explained"
   ]
  },
  {
   "cell_type": "markdown",
   "metadata": {},
   "source": [
    "The evidence or fully marginalized likelihood is the probability of the data. That's it. The overall probability of observing the data. Clearly some assumptions need to go into I here. $P(D, I)$. The assumptions must be that you decided to conduct the experiment with the set-up you chose, that your model choice is perfect and you are modeling every process that contributes to these data, including noise. Under those conditions it makes sense to talk about the probability of the data and then only thing that can influence the probability of the data is the model parameters. \n",
    "\n",
    "The evidence/FML is the total probability of the data no matter what the model parameters are, independent of them. To calculate this you must sum the total probability of the data up over every possible model parameter value, i.e. marginalize over all model parameters.\n",
    "\n",
    "$P(D)$ can also be written, \n",
    "$$\\int P(D|\\theta)P(\\theta)d\\theta$$\n",
    "\n",
    "In the line fitting example this would be, \n",
    "$$P(X, Y) = \\int P(X, Y|m, c)P(m)P(c)dm dc$$\n",
    "\n",
    "The evidence or fully marginalized likelihood is the normalization of the posterior PDF. If you don't calculate this you can't know the overall probability of the model given the data, you can only know the relative probability of one set of model parameters vs another. This is often all we need to know for most inference problems. The evidence/FML is useful if you want to compare one model with another, e.g. a straight line vs a 2nd order polynomial (although there is a simpler way to do this than calculating the evidence/FML -- ask me about nested models).\n",
    "\n",
    "For a given model choice, the FML gives you the probability of seeing these data under your choice of model. If the evidence is low you know that this model does not describe the data very well. "
   ]
  },
  {
   "cell_type": "markdown",
   "metadata": {},
   "source": [
    "# Bayes rule example: playing cards"
   ]
  },
  {
   "cell_type": "markdown",
   "metadata": {},
   "source": [
    "Example from [Tiny Heero - Bayes Rule](http://tinyheero.github.io/2016/04/21/bayes-rule.html)\n",
    " who got it from [Brilliant - Bayes' Theorem and Conditional Probability](https://brilliant.org/wiki/bayes-theorem/)."
   ]
  },
  {
   "cell_type": "markdown",
   "metadata": {},
   "source": [
    "Say you're playing cards and you want to know your chance of drawing a king from a freshly shuffled deck. You know a priori that the chance of drawing a king is $\\frac{1}{13}$.\n",
    "\n",
    "Now you are given a piece of information (data) that the top card is a face card. What is the chance that that card is a king now? What is your updated, posterior belief about the value of that card given the data -- that it's a face card.\n",
    "\n",
    "We can answer this question using Bayes' rule.\n",
    "\n",
    "$$P(\\theta = \\mathrm{King}~|~D = \\mathrm{face~card}) = \\frac{P(D = \\mathrm{face~card}~|~\\theta = \\mathrm{King})~P(\\theta = \\mathrm{King})}{P(D=\\mathrm{face~card})} $$\n",
    "\n",
    "We know the likelihood that the card is a face card given that it's a King: it must be 1. The probability of drawing a King is one in thirteen and the probability that the card is a face card is $\\frac{12}{52}$ = $\\frac{3}{13}$.\n",
    "\n",
    "So the updated, posterior probability that you draw a king given that you know the card is a face card is,\n",
    "\n",
    "$$P(\\theta = \\mathrm{King}~|~D = \\mathrm{face~card}) = \\frac{1 \\times \\frac{1}{13}}{\\frac{3}{13}} = \\frac{1}{3}$$\n",
    "\n",
    "A frequentist might answer this question by repeated trials. They would divide the number of times the card was a King  and also a face card by the number of times the card was a face card. After infinite trials they would find the probability to be exactly $\\frac{1}{3}$."
   ]
  },
  {
   "cell_type": "markdown",
   "metadata": {},
   "source": [
    "# A simple example"
   ]
  },
  {
   "cell_type": "markdown",
   "metadata": {},
   "source": [
    "Fitting a line to data.\n",
    "\n",
    "Here are some data."
   ]
  },
  {
   "cell_type": "code",
   "execution_count": 63,
   "metadata": {},
   "outputs": [
    {
     "data": {
      "text/plain": [
       "Text(0,0.5,'y')"
      ]
     },
     "execution_count": 63,
     "metadata": {},
     "output_type": "execute_result"
    },
    {
     "data": {
      "image/png": "[encoded data removed]",
      "text/plain": [
       "<matplotlib.figure.Figure at 0x108bfbcf8>"
      ]
     },
     "metadata": {},
     "output_type": "display_data"
    }
   ],
   "source": [
    "N = 20\n",
    "\n",
    "x = np.random.uniform(0, 10, size=N)\n",
    "sigma = .3  # Homoskedastic uncertainties, all uncerts take this value.\n",
    "yerr = np.ones_like(x) * sigma\n",
    "\n",
    "# make up a model\n",
    "m, c = .8, 3\n",
    "y = m * x + c + np.random.randn(N) * sigma\n",
    "plt.errorbar(x, y, yerr=yerr, fmt=\".\")\n",
    "plt.errorbar(x[3], y[3], yerr[3], fmt=\".\")  # highlight one data point in orange\n",
    "plt.xlabel(\"x\")\n",
    "plt.ylabel(\"y\")"
   ]
  },
  {
   "cell_type": "markdown",
   "metadata": {},
   "source": [
    "What's the likelihood of that orange data point? As in, what's the likelihood of observing that data point, given the model, y = mx + c, and the chosen x value? The coordinates of that data point are:"
   ]
  },
  {
   "cell_type": "code",
   "execution_count": 70,
   "metadata": {},
   "outputs": [
    {
     "name": "stdout",
     "output_type": "stream",
     "text": [
      "5.081194077552952 7.045569470080013\n"
     ]
    }
   ],
   "source": [
    "print(x[3], y[3])"
   ]
  },
  {
   "cell_type": "markdown",
   "metadata": {},
   "source": [
    "The likelihood is:"
   ]
  },
  {
   "cell_type": "markdown",
   "metadata": {},
   "source": [
    "$$\\mathcal{L} = p(y_3|m, c, x_3) = \\frac{1}{(2\\pi\\sigma^2)^{N/2}}\\exp\\left[-\\frac{1}{2\\sigma^2}(y_3 - \\mu)^2 \\right]$$"
   ]
  },
  {
   "cell_type": "markdown",
   "metadata": {},
   "source": [
    "Here $\\mu$ is the mean. We're used to thinking of the mean as a single number. But here we're saying that each data point is drawn from a Gaussian distribution __centered on the straight line__. The straight line is the mean and since it's a model instead of a number we'll call it the mean model. So $\\mu = mx + b$."
   ]
  },
  {
   "cell_type": "markdown",
   "metadata": {},
   "source": [
    "$$ = \\frac{1}{(2\\pi\\sigma^2)^{N/2}}\\exp\\left[-\\frac{1}{2\\sigma^2}(y_3 - [mx_3 + c])^2 \\right]$$"
   ]
  },
  {
   "cell_type": "markdown",
   "metadata": {},
   "source": [
    "Plug in the numbers to calculate the likelihood of that data point."
   ]
  },
  {
   "cell_type": "code",
   "execution_count": 78,
   "metadata": {},
   "outputs": [
    {
     "name": "stdout",
     "output_type": "stream",
     "text": [
      "The likelihood of measuring y = 7.05 given the model specified and that x = 5.08 is 1.3270340889211052\n"
     ]
    }
   ],
   "source": [
    "mean = m*x[3] + c\n",
    "print(\"The likelihood of measuring y = {0:.3} given the model specified and that x = {1:.3} is\".format(y[3], x[3]), \n",
    "      Gauss(mean, sigma, y[3]))"
   ]
  },
  {
   "cell_type": "markdown",
   "metadata": {},
   "source": [
    "Why can this value be greater than 1?"
   ]
  },
  {
   "cell_type": "markdown",
   "metadata": {},
   "source": [
    "Answer: it's not a normalized probability!"
   ]
  },
  {
   "cell_type": "code",
   "execution_count": 69,
   "metadata": {},
   "outputs": [
    {
     "data": {
      "text/plain": [
       "[<matplotlib.lines.Line2D at 0x109395cf8>]"
      ]
     },
     "execution_count": 69,
     "metadata": {},
     "output_type": "execute_result"
    },
    {
     "data": {
      "image/png": "[encoded data removed]",
      "text/plain": [
       "<matplotlib.figure.Figure at 0x107280e10>"
      ]
     },
     "metadata": {},
     "output_type": "display_data"
    }
   ],
   "source": [
    "plt.errorbar(x, y, yerr=yerr, fmt=\".\")\n",
    "plt.errorbar(x[3], y[3], yerr[3], fmt=\".\")  # highlight one data point in orange\n",
    "\n",
    "xplot = np.linspace(0, 10, 100)\n",
    "plt.plot(xplot, m*xplot + c)\n",
    "plt.xlabel(\"x\")\n",
    "plt.ylabel(\"y\")\n",
    "plt.xlim(x[3]-2, x[3]+2)\n",
    "plt.ylim(y[3]-2, y[3]+2)\n",
    "\n",
    "yplot = np.linspace(y[3]-1, y[3]+1, 100)\n",
    "plt.plot((Gauss((m*x[3] + c), sigma, yplot))*.5 + x[3], yplot, \".5\", ls=\"--\")"
   ]
  },
  {
   "cell_type": "markdown",
   "metadata": {},
   "source": [
    "The probability distribution over y-values, given the model and the x value is shown by the grey, dashed Gaussian shape."
   ]
  },
  {
   "cell_type": "code",
   "execution_count": null,
   "metadata": {},
   "outputs": [],
   "source": []
  },
  {
   "cell_type": "code",
   "execution_count": null,
   "metadata": {},
   "outputs": [],
   "source": []
  },
  {
   "cell_type": "markdown",
   "metadata": {},
   "source": [
    "# A simple analytic example"
   ]
  },
  {
   "cell_type": "markdown",
   "metadata": {},
   "source": [
    "Astronomy examples now. 1-D: the velocity distribution of stars -- a Gaussian example."
   ]
  },
  {
   "cell_type": "markdown",
   "metadata": {},
   "source": [
    "Let's say you'd like to learn what the one-dimensional, vertical velocity distribution of stars is. You have some prior knowledge about what you expect this distribution to look like: you expect it to be a Gaussian with a mean of zero and perhaps you take a look in Binney & Tremaine to find a reasonable variance for this distriution. Let's say it's 10 km/s (I have not looked this up in Binney & Tremaine)."
   ]
  },
  {
   "cell_type": "code",
   "execution_count": 9,
   "metadata": {},
   "outputs": [
    {
     "data": {
      "image/png": "[encoded data removed]",
      "text/plain": [
       "<matplotlib.figure.Figure at 0x1065152e8>"
      ]
     },
     "metadata": {},
     "output_type": "display_data"
    }
   ],
   "source": [
    "mu, sigma = 0, 100\n",
    "xi = np.linspace(-400, 400, 1000)\n",
    "\n",
    "plt.plot(xi, Gauss(mu, sigma, xi))\n",
    "plt.xlabel(\"Vertical velocities of stars near the Sun [km/s]\")\n",
    "plt.ylabel(\"Probability\");"
   ]
  },
  {
   "cell_type": "markdown",
   "metadata": {},
   "source": [
    "Let's assume that the data we get from the Gaia spacecraft have Gaussian probability density functions, i.e. the probability of observing a certain value is a Gaussian centered on the \"truth\" with a standard deviation equal to its uncertainty. If there were a large number of outliers this might not be a good assumption. We'll also assume that the data are independent and identically distributed (iid). This means that the probability distribution of each data point doesn't depend on any other data point and that the probability distribution of each data point is identical. These assumptions are implicitly being made whenever a Gaussian likelihood function is used.\n",
    "\n",
    "Our data are the vertical velocites, $\\underline{W_N} = \\{W_0, W_1, W_2, ..., W_N\\}$\n",
    "\n",
    "Our likelihood function is,\n",
    "\n",
    "$$p(\\underline{W_N}|\\theta)$$\n",
    "\n",
    "Where I have written $\\bf{D}$ in bold because it's a vector, "
   ]
  },
  {
   "cell_type": "code",
   "execution_count": null,
   "metadata": {},
   "outputs": [],
   "source": []
  },
  {
   "cell_type": "code",
   "execution_count": null,
   "metadata": {},
   "outputs": [],
   "source": []
  },
  {
   "cell_type": "code",
   "execution_count": null,
   "metadata": {},
   "outputs": [],
   "source": []
  },
  {
   "cell_type": "code",
   "execution_count": null,
   "metadata": {},
   "outputs": [],
   "source": []
  },
  {
   "cell_type": "markdown",
   "metadata": {},
   "source": [
    "The linear case simplifies."
   ]
  },
  {
   "cell_type": "code",
   "execution_count": null,
   "metadata": {},
   "outputs": [],
   "source": []
  },
  {
   "cell_type": "code",
   "execution_count": null,
   "metadata": {},
   "outputs": [],
   "source": []
  },
  {
   "cell_type": "markdown",
   "metadata": {},
   "source": [
    "# A simple hierarchical model"
   ]
  },
  {
   "cell_type": "markdown",
   "metadata": {},
   "source": [
    "where the prior becomes part of the model too."
   ]
  },
  {
   "cell_type": "markdown",
   "metadata": {},
   "source": [
    "# Other examples of hierarchical models"
   ]
  },
  {
   "cell_type": "markdown",
   "metadata": {},
   "source": [
    "Including non-analytic examples (where priors are not conjugate)."
   ]
  },
  {
   "cell_type": "code",
   "execution_count": null,
   "metadata": {},
   "outputs": [],
   "source": []
  },
  {
   "cell_type": "markdown",
   "metadata": {},
   "source": [
    "# Moving onto sampling"
   ]
  },
  {
   "cell_type": "code",
   "execution_count": null,
   "metadata": {},
   "outputs": [],
   "source": []
  },
  {
   "cell_type": "code",
   "execution_count": null,
   "metadata": {},
   "outputs": [],
   "source": []
  },
  {
   "cell_type": "markdown",
   "metadata": {},
   "source": [
    "Frequentists see probabilities as the outcomes of repeated trials, where the probability of an outcome is its frequency divided by the total number of trials. The more trials, the closer this probability gets to the true probability. In Bayesian statistics, prior beliefs about the probability of an event are incorporated into the calculation.\n",
    "\n",
    "One of the biggest practical differences are that Bayesians are explicit about the priors they use. Frequentists still have priors; they are improper priors. \n",
    "\n",
    "The other main difference is that it isn't very meaningful to think about the probability of a single event if you're a frequentist. Frequentist probabilities represent the frequency of a certain event occurring, given a number of trials. Bayesians use probability distributions. "
   ]
  },
  {
   "cell_type": "code",
   "execution_count": null,
   "metadata": {},
   "outputs": [],
   "source": []
  }
 ],
 "metadata": {
  "anaconda-cloud": {},
  "kernelspec": {
   "display_name": "Python [conda root]",
   "language": "python",
   "name": "conda-root-py"
  },
  "language_info": {
   "codemirror_mode": {
    "name": "ipython",
    "version": 3
   },
   "file_extension": ".py",
   "mimetype": "text/x-python",
   "name": "python",
   "nbconvert_exporter": "python",
   "pygments_lexer": "ipython3",
   "version": "3.5.2"
  }
 },
 "nbformat": 4,
 "nbformat_minor": 1
}
